{
  "cells": [
    {
      "cell_type": "markdown",
      "metadata": {
        "id": "view-in-github",
        "colab_type": "text"
      },
      "source": [
        "<a href=\"https://colab.research.google.com/github/Gogonemnem/Parallel-Programming-R/blob/main/Tutorial2_PyTorch2.ipynb\" target=\"_parent\"><img src=\"https://colab.research.google.com/assets/colab-badge.svg\" alt=\"Open In Colab\"/></a>"
      ]
    },
    {
      "cell_type": "markdown",
      "metadata": {
        "id": "3Wlu2QsWpDzW"
      },
      "source": [
        "# 0. Import modules"
      ]
    },
    {
      "cell_type": "code",
      "execution_count": 1,
      "metadata": {
        "scrolled": true,
        "id": "phyiytL-pDzY"
      },
      "outputs": [],
      "source": [
        "import numpy as np\n",
        "import matplotlib.pyplot as plt"
      ]
    },
    {
      "cell_type": "code",
      "execution_count": 2,
      "metadata": {
        "id": "oWpfs4H9pDzZ"
      },
      "outputs": [],
      "source": [
        "import torch\n",
        "from torch.utils.data import DataLoader\n",
        "from torchvision import datasets, transforms\n",
        "from torch.utils.data import TensorDataset\n",
        "import torch.nn as nn\n",
        "import torch.nn.functional as F\n",
        "import torch.optim as optim"
      ]
    },
    {
      "cell_type": "code",
      "source": [
        "device=torch.device(\"cuda\")"
      ],
      "metadata": {
        "id": "iMIx1I-nuO99"
      },
      "execution_count": 3,
      "outputs": []
    },
    {
      "cell_type": "code",
      "execution_count": 4,
      "metadata": {
        "colab": {
          "base_uri": "https://localhost:8080/"
        },
        "id": "GM98PfwPpDza",
        "outputId": "7efc2363-b694-4e9a-dc07-55b53fe0013f"
      },
      "outputs": [
        {
          "output_type": "stream",
          "name": "stdout",
          "text": [
            "PyTorch version: 2.1.0+cu118\n",
            "MPS built: False\n",
            "MPS available: False\n",
            "Device used: mps\n"
          ]
        }
      ],
      "source": [
        "print(f\"PyTorch version: {torch.__version__}\")\n",
        "print(f\"MPS built: {torch.backends.mps.is_built()}\")\n",
        "print(f\"MPS available: {torch.backends.mps.is_available()}\")\n",
        "device = torch.device(\"mps\")\n",
        "print(f\"Device used: {device}\")"
      ]
    },
    {
      "cell_type": "markdown",
      "metadata": {
        "id": "wXpnxJ2hpDzb"
      },
      "source": [
        "# 1. Multilayer perceptron"
      ]
    },
    {
      "cell_type": "code",
      "execution_count": 4,
      "metadata": {
        "colab": {
          "base_uri": "https://localhost:8080/"
        },
        "id": "Mmct4FxppDzb",
        "outputId": "7a7db60b-160c-4a1f-d23c-cdbd67b18486"
      },
      "outputs": [
        {
          "output_type": "execute_result",
          "data": {
            "text/plain": [
              "<torch._C.Generator at 0x7a1c701113d0>"
            ]
          },
          "metadata": {},
          "execution_count": 4
        }
      ],
      "source": [
        "np.random.seed(1)\n",
        "torch.manual_seed(1)"
      ]
    },
    {
      "cell_type": "markdown",
      "metadata": {
        "id": "-VFuX2-vpDzc"
      },
      "source": [
        "## 1.a Load MNIST data set"
      ]
    },
    {
      "cell_type": "code",
      "execution_count": 5,
      "metadata": {
        "colab": {
          "base_uri": "https://localhost:8080/"
        },
        "id": "MVnc-RxspDzd",
        "outputId": "1a6bda54-a3a3-4160-a4a1-be23ccde1130"
      },
      "outputs": [
        {
          "output_type": "stream",
          "name": "stdout",
          "text": [
            "Downloading http://yann.lecun.com/exdb/mnist/train-images-idx3-ubyte.gz\n",
            "Downloading http://yann.lecun.com/exdb/mnist/train-images-idx3-ubyte.gz to ./data/MNIST/raw/train-images-idx3-ubyte.gz\n"
          ]
        },
        {
          "output_type": "stream",
          "name": "stderr",
          "text": [
            "100%|██████████| 9912422/9912422 [00:00<00:00, 91451365.52it/s]\n"
          ]
        },
        {
          "output_type": "stream",
          "name": "stdout",
          "text": [
            "Extracting ./data/MNIST/raw/train-images-idx3-ubyte.gz to ./data/MNIST/raw\n",
            "\n",
            "Downloading http://yann.lecun.com/exdb/mnist/train-labels-idx1-ubyte.gz\n",
            "Downloading http://yann.lecun.com/exdb/mnist/train-labels-idx1-ubyte.gz to ./data/MNIST/raw/train-labels-idx1-ubyte.gz\n"
          ]
        },
        {
          "output_type": "stream",
          "name": "stderr",
          "text": [
            "100%|██████████| 28881/28881 [00:00<00:00, 101114936.41it/s]\n"
          ]
        },
        {
          "output_type": "stream",
          "name": "stdout",
          "text": [
            "Extracting ./data/MNIST/raw/train-labels-idx1-ubyte.gz to ./data/MNIST/raw\n",
            "\n",
            "Downloading http://yann.lecun.com/exdb/mnist/t10k-images-idx3-ubyte.gz\n",
            "Downloading http://yann.lecun.com/exdb/mnist/t10k-images-idx3-ubyte.gz to ./data/MNIST/raw/t10k-images-idx3-ubyte.gz\n"
          ]
        },
        {
          "output_type": "stream",
          "name": "stderr",
          "text": [
            "100%|██████████| 1648877/1648877 [00:00<00:00, 26349163.89it/s]\n"
          ]
        },
        {
          "output_type": "stream",
          "name": "stdout",
          "text": [
            "Extracting ./data/MNIST/raw/t10k-images-idx3-ubyte.gz to ./data/MNIST/raw\n",
            "\n",
            "Downloading http://yann.lecun.com/exdb/mnist/t10k-labels-idx1-ubyte.gz\n",
            "Downloading http://yann.lecun.com/exdb/mnist/t10k-labels-idx1-ubyte.gz to ./data/MNIST/raw/t10k-labels-idx1-ubyte.gz\n"
          ]
        },
        {
          "output_type": "stream",
          "name": "stderr",
          "text": [
            "100%|██████████| 4542/4542 [00:00<00:00, 20180644.88it/s]"
          ]
        },
        {
          "output_type": "stream",
          "name": "stdout",
          "text": [
            "Extracting ./data/MNIST/raw/t10k-labels-idx1-ubyte.gz to ./data/MNIST/raw\n",
            "\n"
          ]
        },
        {
          "output_type": "stream",
          "name": "stderr",
          "text": [
            "\n"
          ]
        }
      ],
      "source": [
        "mnist_train = datasets.MNIST(root = './data', train = True, download = True, transform = None)"
      ]
    },
    {
      "cell_type": "code",
      "execution_count": 6,
      "metadata": {
        "id": "nNfXu0FhpDzd"
      },
      "outputs": [],
      "source": [
        "mnist_test = datasets.MNIST(root = './data', train = False, download = True, transform = None)"
      ]
    },
    {
      "cell_type": "code",
      "execution_count": 7,
      "metadata": {
        "colab": {
          "base_uri": "https://localhost:8080/"
        },
        "id": "EwCepXZepDzf",
        "outputId": "887ecb57-8d8d-4def-e8ef-4aab48b81994"
      },
      "outputs": [
        {
          "output_type": "stream",
          "name": "stdout",
          "text": [
            "torch.Size([60000, 28, 28])\n",
            "torch.Size([10000, 28, 28])\n"
          ]
        }
      ],
      "source": [
        "print(mnist_train.data.shape)\n",
        "print(mnist_test.data.shape)"
      ]
    },
    {
      "cell_type": "markdown",
      "metadata": {
        "id": "6VGTrGXxpDzf"
      },
      "source": [
        "Rescale data to [0,1]"
      ]
    },
    {
      "cell_type": "code",
      "execution_count": 8,
      "metadata": {
        "colab": {
          "base_uri": "https://localhost:8080/"
        },
        "id": "GH02RQP8pDzg",
        "outputId": "a3975c52-f331-49f4-ad3f-5c9e7b97fd35"
      },
      "outputs": [
        {
          "output_type": "stream",
          "name": "stdout",
          "text": [
            "(60000, 28, 28)\n",
            "(60000,)\n",
            "(10000, 28, 28)\n",
            "(10000,)\n"
          ]
        }
      ],
      "source": [
        "x_train = np.array(mnist_train.data / 256.)\n",
        "print(x_train.shape)\n",
        "y_train = np.array(mnist_train.targets)\n",
        "print(y_train.shape)\n",
        "x_test = np.array(mnist_test.data / 256.)\n",
        "print(x_test.shape)\n",
        "y_test = np.array(mnist_test.targets)\n",
        "print(y_test.shape)"
      ]
    },
    {
      "cell_type": "markdown",
      "metadata": {
        "id": "4YYwDwXKpDzh"
      },
      "source": [
        "Visualization"
      ]
    },
    {
      "cell_type": "code",
      "execution_count": 9,
      "metadata": {
        "colab": {
          "base_uri": "https://localhost:8080/",
          "height": 770
        },
        "id": "SExOM2ZEpDzh",
        "outputId": "77852169-3a1b-4768-c60a-723bdce8b850"
      },
      "outputs": [
        {
          "output_type": "display_data",
          "data": {
            "text/plain": [
              "<Figure size 2000x1000 with 10 Axes>"
            ],
            "image/png": "[encoded data removed]"
          },
          "metadata": {}
        }
      ],
      "source": [
        "plt.figure(1, figsize=(20, 10))\n",
        "for i in range(10):\n",
        "    plt.subplot(2, 5, i + 1)\n",
        "    plt.imshow(x_train[i,:,:], cmap=plt.cm.gray_r)\n",
        "    plt.title('Training[' + str(i) + ']: digit ' + str(y_train[i]))"
      ]
    },
    {
      "cell_type": "markdown",
      "metadata": {
        "id": "CX_3CQN3pDzi"
      },
      "source": [
        "## 1.b Construct first training/test data set for '0' and '1'"
      ]
    },
    {
      "cell_type": "markdown",
      "metadata": {
        "id": "31M2UTwdpDzi"
      },
      "source": [
        "Training data"
      ]
    },
    {
      "cell_type": "code",
      "execution_count": 10,
      "metadata": {
        "colab": {
          "base_uri": "https://localhost:8080/"
        },
        "id": "hIYM1lIXpDzi",
        "outputId": "ec7275a1-79e9-4bc9-edd4-68f99f89ca7f"
      },
      "outputs": [
        {
          "output_type": "stream",
          "name": "stdout",
          "text": [
            "(200, 28, 28)\n",
            "(200,)\n"
          ]
        }
      ],
      "source": [
        "x_train1 = np.empty((200, x_train.shape[1], x_train.shape[2]))\n",
        "x_train1[:100,:,:] = x_train[y_train == 0,:,:][:100,:,:]\n",
        "x_train1[100:,:,:] = x_train[y_train == 1,:,:][:100,:,:]\n",
        "print(x_train1.shape)\n",
        "y_train1 = np.empty((200))\n",
        "y_train1[:100] = y_train[y_train == 0][:100]\n",
        "y_train1[100:] = y_train[y_train == 1][:100]\n",
        "print(y_train1.shape)"
      ]
    },
    {
      "cell_type": "markdown",
      "metadata": {
        "id": "DDxNqXxKpDzi"
      },
      "source": [
        "Test data"
      ]
    },
    {
      "cell_type": "code",
      "execution_count": 11,
      "metadata": {
        "colab": {
          "base_uri": "https://localhost:8080/"
        },
        "id": "l-5EMZlzpDzj",
        "outputId": "ecb9ec6d-434b-4e5e-d7de-e4b99ffb82a3"
      },
      "outputs": [
        {
          "output_type": "stream",
          "name": "stdout",
          "text": [
            "980\n",
            "1135\n",
            "980\n",
            "1020\n",
            "(2000, 28, 28)\n"
          ]
        }
      ],
      "source": [
        "# Make sure the testing set has lenght 2000\n",
        "n_zeros = x_test[(y_test == 0),:,:].shape[0]\n",
        "print(n_zeros)\n",
        "n_ones = x_test[(y_test == 1),:,:].shape[0]\n",
        "print(n_ones)\n",
        "if n_zeros + n_ones >= 2000:\n",
        "    x_test1 = np.empty((2000, x_test.shape[1], x_train.shape[2]))\n",
        "    if n_zeros >= 1000:\n",
        "        if n_ones >= 1000:\n",
        "            n_zeros_real = 1000\n",
        "        else:\n",
        "            n_zeros_real = 2000 - n_ones\n",
        "    else:\n",
        "        n_zeros_real = n_zeros\n",
        "    print(n_zeros_real)\n",
        "    print(2000 - n_zeros_real)\n",
        "    x_test1[:n_zeros_real,:,:] = x_test[y_test == 0,:,:][:n_zeros_real,:,:]\n",
        "    x_test1[n_zeros_real:,:,:] = x_test[y_test == 1,:,:][:(2000 - n_zeros_real),:,:]\n",
        "else:\n",
        "    x_test1 = np.empty((n_zeros + n_ones, x_test.shape[1], x_train.shape[2]))\n",
        "    x_test1[:n_zeros,:,:] = x_test[y_test == 0,:,:][:n_zeros,:,:]\n",
        "    x_test1[n_zeros:,:,:] = x_test[y_test == 1,:,:][:n_ones,:,:]\n",
        "print(x_test1.shape)"
      ]
    },
    {
      "cell_type": "code",
      "execution_count": 12,
      "metadata": {
        "colab": {
          "base_uri": "https://localhost:8080/"
        },
        "id": "yEYLrBW5pDzj",
        "outputId": "13963bf1-929e-48ec-d9fe-caf17df13757"
      },
      "outputs": [
        {
          "output_type": "stream",
          "name": "stdout",
          "text": [
            "(980,)\n",
            "(1020,)\n",
            "(2000,)\n"
          ]
        }
      ],
      "source": [
        "if n_zeros + n_ones >= 2000:\n",
        "    y_test1 = np.empty((2000))\n",
        "    y_test1[:n_zeros_real] = y_test[y_test == 0][:n_zeros_real]\n",
        "    y_test1[n_zeros_real:] = y_test[y_test == 1][:(2000 - n_zeros_real)]\n",
        "else:\n",
        "    y_test1 = np.empty((n_zeros + n_ones))\n",
        "    y_test1[:n_zeros] = y_test[y_test == 0][:n_zeros]\n",
        "    y_test1[n_zeros:] = y_test[y_test == 1][:n_ones]\n",
        "print(y_test1[y_test1 == 0].shape)\n",
        "print(y_test1[y_test1 == 1].shape)\n",
        "print(y_test1.shape)"
      ]
    },
    {
      "cell_type": "markdown",
      "metadata": {
        "id": "BrbajnITpDzj"
      },
      "source": [
        "Flatten the data"
      ]
    },
    {
      "cell_type": "code",
      "execution_count": 13,
      "metadata": {
        "colab": {
          "base_uri": "https://localhost:8080/"
        },
        "id": "tGT6J1o5pDzk",
        "outputId": "b24090ff-c653-4455-995d-93853113a713"
      },
      "outputs": [
        {
          "output_type": "stream",
          "name": "stdout",
          "text": [
            "(200, 784)\n",
            "(2000, 784)\n",
            "(200, 1)\n",
            "(2000, 1)\n"
          ]
        }
      ],
      "source": [
        "x_train1_flat = x_train1.reshape((x_train1.shape[0], x_train1.shape[1] * x_train1.shape[2]))\n",
        "print(x_train1_flat.shape)\n",
        "x_test1_flat = x_test1.reshape((x_test1.shape[0], x_test1.shape[1] * x_test1.shape[2]))\n",
        "print(x_test1_flat.shape)\n",
        "y_train1_flat = y_train1.reshape(-1, 1)\n",
        "print(y_train1_flat.shape)\n",
        "y_test1_flat = y_test1.reshape(-1, 1)\n",
        "print(y_test1_flat.shape)"
      ]
    },
    {
      "cell_type": "markdown",
      "metadata": {
        "id": "a9rD7w0rpDzk"
      },
      "source": [
        "## 1.c Train the fully connected neural network for '0' and '1'"
      ]
    },
    {
      "cell_type": "markdown",
      "metadata": {
        "id": "k0jN4gk7pDzl"
      },
      "source": [
        "Define NN's class"
      ]
    },
    {
      "cell_type": "code",
      "execution_count": 14,
      "metadata": {
        "id": "Q2oBCaRapDzl"
      },
      "outputs": [],
      "source": [
        "class DNN1(nn.Module):\n",
        "    def __init__(self):\n",
        "        super().__init__()\n",
        "        self.fc1 = nn.Linear(784, 10)\n",
        "        self.fc2 = nn.Linear(10, 10)\n",
        "        self.fc3 = nn.Linear(10, 1)\n",
        "\n",
        "    def forward(self, x):\n",
        "        x = torch.sigmoid(self.fc1(x))\n",
        "        x = torch.sigmoid(self.fc2(x))\n",
        "        x = torch.sigmoid(self.fc3(x))\n",
        "        return x"
      ]
    },
    {
      "cell_type": "markdown",
      "metadata": {
        "id": "84epWq4ppDzl"
      },
      "source": [
        "Set-up the NN"
      ]
    },
    {
      "cell_type": "code",
      "execution_count": 15,
      "metadata": {
        "colab": {
          "base_uri": "https://localhost:8080/"
        },
        "id": "T3ZcHhIxpDzl",
        "outputId": "a7f37242-ed07-4dc3-8c52-f8873c271e29"
      },
      "outputs": [
        {
          "output_type": "stream",
          "name": "stdout",
          "text": [
            "200\n",
            "DNN1(\n",
            "  (fc1): Linear(in_features=784, out_features=10, bias=True)\n",
            "  (fc2): Linear(in_features=10, out_features=10, bias=True)\n",
            "  (fc3): Linear(in_features=10, out_features=1, bias=True)\n",
            ")\n"
          ]
        }
      ],
      "source": [
        "net1 = DNN1()\n",
        "criterion = nn.MSELoss()\n",
        "net1.to(device)\n",
        "optimizer = optim.Adam(net1.parameters(), lr = 0.01)\n",
        "miniBatchSize = 1\n",
        "epochSize = x_train1_flat.shape[0]\n",
        "print(epochSize)\n",
        "print(net1)"
      ]
    },
    {
      "cell_type": "markdown",
      "metadata": {
        "id": "SVUqOT4GpDzm"
      },
      "source": [
        "Run NN once"
      ]
    },
    {
      "cell_type": "code",
      "execution_count": 16,
      "metadata": {
        "id": "pNhkNTDBpDzm",
        "outputId": "5ac00817-083b-40d6-96a7-4a093769ebbb",
        "colab": {
          "base_uri": "https://localhost:8080/"
        }
      },
      "outputs": [
        {
          "output_type": "stream",
          "name": "stdout",
          "text": [
            "[0 0 0 0 0 0 0 0 0 0 0 0 0 0 0 0 0 0 0 0 0 0 0 0 0 0 0 0 0 0 0 0 0 0 0 0 0\n",
            " 0 0 0 0 0 0 0 0 0 0 0 0 0 0 0 0 0 0 0 0 0 0 0 0 0 0 0 0 0 0 0 0 0 0 0 0 0\n",
            " 0 0 0 0 0 0 0 0 0 0 0 0 0 0 0 0 0 0 0 0 0 0 0 0 0 0 0 0 0 0 0 0 0 0 0 0 0\n",
            " 0 0 0 0 0 0 0 0 0 0 0 0 0 0 0 0 0 0 0 0 0 0 0 0 0 0 0 0 0 0 0 0 0 0 0 0 0\n",
            " 0 0 0 0 0 0 0 0 0 0 0 0 0 0 0 0 0 0 0 0 0 0 0 0 0 0 0 0 0 0 0 0 0 0 0 0 0\n",
            " 0 0 0 0 0 0 0 0 0 0 0 0 0 0 0]\n",
            "[[0.]\n",
            " [0.]\n",
            " [0.]\n",
            " [0.]\n",
            " [0.]\n",
            " [0.]\n",
            " [0.]\n",
            " [0.]\n",
            " [0.]\n",
            " [0.]\n",
            " [0.]\n",
            " [0.]\n",
            " [0.]\n",
            " [0.]\n",
            " [0.]\n",
            " [0.]\n",
            " [0.]\n",
            " [0.]\n",
            " [0.]\n",
            " [0.]\n",
            " [0.]\n",
            " [0.]\n",
            " [0.]\n",
            " [0.]\n",
            " [0.]\n",
            " [0.]\n",
            " [0.]\n",
            " [0.]\n",
            " [0.]\n",
            " [0.]\n",
            " [0.]\n",
            " [0.]\n",
            " [0.]\n",
            " [0.]\n",
            " [0.]\n",
            " [0.]\n",
            " [0.]\n",
            " [0.]\n",
            " [0.]\n",
            " [0.]\n",
            " [0.]\n",
            " [0.]\n",
            " [0.]\n",
            " [0.]\n",
            " [0.]\n",
            " [0.]\n",
            " [0.]\n",
            " [0.]\n",
            " [0.]\n",
            " [0.]\n",
            " [0.]\n",
            " [0.]\n",
            " [0.]\n",
            " [0.]\n",
            " [0.]\n",
            " [0.]\n",
            " [0.]\n",
            " [0.]\n",
            " [0.]\n",
            " [0.]\n",
            " [0.]\n",
            " [0.]\n",
            " [0.]\n",
            " [0.]\n",
            " [0.]\n",
            " [0.]\n",
            " [0.]\n",
            " [0.]\n",
            " [0.]\n",
            " [0.]\n",
            " [0.]\n",
            " [0.]\n",
            " [0.]\n",
            " [0.]\n",
            " [0.]\n",
            " [0.]\n",
            " [0.]\n",
            " [0.]\n",
            " [0.]\n",
            " [0.]\n",
            " [0.]\n",
            " [0.]\n",
            " [0.]\n",
            " [0.]\n",
            " [0.]\n",
            " [0.]\n",
            " [0.]\n",
            " [0.]\n",
            " [0.]\n",
            " [0.]\n",
            " [0.]\n",
            " [0.]\n",
            " [0.]\n",
            " [0.]\n",
            " [0.]\n",
            " [0.]\n",
            " [0.]\n",
            " [0.]\n",
            " [0.]\n",
            " [0.]\n",
            " [1.]\n",
            " [1.]\n",
            " [1.]\n",
            " [1.]\n",
            " [1.]\n",
            " [1.]\n",
            " [1.]\n",
            " [1.]\n",
            " [1.]\n",
            " [1.]\n",
            " [1.]\n",
            " [1.]\n",
            " [1.]\n",
            " [1.]\n",
            " [1.]\n",
            " [1.]\n",
            " [1.]\n",
            " [1.]\n",
            " [1.]\n",
            " [1.]\n",
            " [1.]\n",
            " [1.]\n",
            " [1.]\n",
            " [1.]\n",
            " [1.]\n",
            " [1.]\n",
            " [1.]\n",
            " [1.]\n",
            " [1.]\n",
            " [1.]\n",
            " [1.]\n",
            " [1.]\n",
            " [1.]\n",
            " [1.]\n",
            " [1.]\n",
            " [1.]\n",
            " [1.]\n",
            " [1.]\n",
            " [1.]\n",
            " [1.]\n",
            " [1.]\n",
            " [1.]\n",
            " [1.]\n",
            " [1.]\n",
            " [1.]\n",
            " [1.]\n",
            " [1.]\n",
            " [1.]\n",
            " [1.]\n",
            " [1.]\n",
            " [1.]\n",
            " [1.]\n",
            " [1.]\n",
            " [1.]\n",
            " [1.]\n",
            " [1.]\n",
            " [1.]\n",
            " [1.]\n",
            " [1.]\n",
            " [1.]\n",
            " [1.]\n",
            " [1.]\n",
            " [1.]\n",
            " [1.]\n",
            " [1.]\n",
            " [1.]\n",
            " [1.]\n",
            " [1.]\n",
            " [1.]\n",
            " [1.]\n",
            " [1.]\n",
            " [1.]\n",
            " [1.]\n",
            " [1.]\n",
            " [1.]\n",
            " [1.]\n",
            " [1.]\n",
            " [1.]\n",
            " [1.]\n",
            " [1.]\n",
            " [1.]\n",
            " [1.]\n",
            " [1.]\n",
            " [1.]\n",
            " [1.]\n",
            " [1.]\n",
            " [1.]\n",
            " [1.]\n",
            " [1.]\n",
            " [1.]\n",
            " [1.]\n",
            " [1.]\n",
            " [1.]\n",
            " [1.]\n",
            " [1.]\n",
            " [1.]\n",
            " [1.]\n",
            " [1.]\n",
            " [1.]\n",
            " [1.]]\n"
          ]
        }
      ],
      "source": [
        "test1_tensor_x = torch.Tensor(x_train1_flat)\n",
        "curInput = test1_tensor_x.to(device)\n",
        "with torch.no_grad():\n",
        "    test1_output = np.array((net1(curInput).numpy(force = True).reshape((-1)) > 0.5), dtype = int)\n",
        "# NN's output\n",
        "print(test1_output)\n",
        "# Correct output\n",
        "print(y_train1_flat)"
      ]
    },
    {
      "cell_type": "markdown",
      "metadata": {
        "id": "DYX777DypDzm"
      },
      "source": [
        "Train the NN"
      ]
    },
    {
      "cell_type": "code",
      "execution_count": 17,
      "metadata": {
        "scrolled": true,
        "id": "wqTPuOJHpDzm",
        "outputId": "c719abee-c8df-460e-c145-8adbed910c00",
        "colab": {
          "base_uri": "https://localhost:8080/"
        }
      },
      "outputs": [
        {
          "output_type": "stream",
          "name": "stdout",
          "text": [
            "Epoch 1\n",
            "[1,    50] loss: 0.214173 (0.21417289)\n",
            "[1,   100] loss: 0.072283 (0.14322773)\n",
            "[1,   150] loss: 0.018924 (0.10179304)\n",
            "[1,   200] loss: 0.008299 (0.07841958)\n",
            "Epoch loss = 0.07841958465287462\n",
            "Epoch 2\n",
            "[2,    50] loss: 0.004990 (0.00498965)\n",
            "[2,   100] loss: 0.003369 (0.00417937)\n",
            "[2,   150] loss: 0.002502 (0.00362016)\n",
            "[2,   200] loss: 0.001944 (0.00320115)\n",
            "Epoch loss = 0.0032011534250341355\n",
            "Epoch 3\n",
            "[3,    50] loss: 0.001562 (0.00156164)\n",
            "[3,   100] loss: 0.001297 (0.00142940)\n",
            "[3,   150] loss: 0.001090 (0.00131622)\n",
            "[3,   200] loss: 0.000935 (0.00122093)\n",
            "Epoch loss = 0.0012209271715255454\n",
            "Epoch 4\n",
            "[4,    50] loss: 0.000811 (0.00081093)\n",
            "[4,   100] loss: 0.000709 (0.00075991)\n",
            "[4,   150] loss: 0.000632 (0.00071743)\n",
            "[4,   200] loss: 0.000561 (0.00067837)\n",
            "Epoch loss = 0.0006783665803959593\n",
            "Epoch 5\n",
            "[5,    50] loss: 0.000504 (0.00050448)\n",
            "[5,   100] loss: 0.000456 (0.00048007)\n",
            "[5,   150] loss: 0.000416 (0.00045869)\n",
            "[5,   200] loss: 0.000378 (0.00043852)\n",
            "Epoch loss = 0.0004385218149400316\n",
            "Epoch 6\n",
            "[6,    50] loss: 0.000345 (0.00034547)\n",
            "[6,   100] loss: 0.000321 (0.00033342)\n",
            "[6,   150] loss: 0.000295 (0.00032074)\n",
            "[6,   200] loss: 0.000273 (0.00030881)\n",
            "Epoch loss = 0.0003088081494206563\n",
            "Epoch 7\n",
            "[7,    50] loss: 0.000253 (0.00025343)\n",
            "[7,   100] loss: 0.000237 (0.00024512)\n",
            "[7,   150] loss: 0.000221 (0.00023708)\n",
            "[7,   200] loss: 0.000207 (0.00022954)\n",
            "Epoch loss = 0.00022954446918447503\n",
            "Epoch 8\n",
            "[8,    50] loss: 0.000194 (0.00019447)\n",
            "[8,   100] loss: 0.000182 (0.00018831)\n",
            "[8,   150] loss: 0.000171 (0.00018262)\n",
            "[8,   200] loss: 0.000161 (0.00017726)\n",
            "Epoch loss = 0.00017726164660416543\n",
            "Epoch 9\n",
            "[9,    50] loss: 0.000152 (0.00015235)\n",
            "[9,   100] loss: 0.000144 (0.00014836)\n",
            "[9,   150] loss: 0.000136 (0.00014433)\n",
            "[9,   200] loss: 0.000130 (0.00014065)\n",
            "Epoch loss = 0.00014064633898669854\n",
            "Epoch 10\n",
            "[10,    50] loss: 0.000123 (0.00012270)\n",
            "[10,   100] loss: 0.000117 (0.00011974)\n",
            "[10,   150] loss: 0.000111 (0.00011689)\n",
            "[10,   200] loss: 0.000105 (0.00011402)\n",
            "Epoch loss = 0.0001140195009065792\n",
            "Epoch 11\n",
            "[11,    50] loss: 0.000101 (0.00010052)\n",
            "[11,   100] loss: 0.000096 (0.00009823)\n",
            "[11,   150] loss: 0.000092 (0.00009604)\n",
            "[11,   200] loss: 0.000088 (0.00009396)\n",
            "Epoch loss = 9.396354169439292e-05\n",
            "Epoch 12\n",
            "[12,    50] loss: 0.000084 (0.00008380)\n",
            "[12,   100] loss: 0.000080 (0.00008191)\n",
            "[12,   150] loss: 0.000077 (0.00008012)\n",
            "[12,   200] loss: 0.000074 (0.00007847)\n",
            "Epoch loss = 7.846922777389409e-05\n",
            "Epoch 13\n",
            "[13,    50] loss: 0.000070 (0.00007030)\n",
            "[13,   100] loss: 0.000068 (0.00006899)\n",
            "[13,   150] loss: 0.000065 (0.00006755)\n",
            "[13,   200] loss: 0.000062 (0.00006625)\n",
            "Epoch loss = 6.625294730838504e-05\n",
            "Epoch 14\n",
            "[14,    50] loss: 0.000060 (0.00005990)\n",
            "[14,   100] loss: 0.000057 (0.00005867)\n",
            "[14,   150] loss: 0.000055 (0.00005753)\n",
            "[14,   200] loss: 0.000053 (0.00005643)\n",
            "Epoch loss = 5.6429297874274195e-05\n",
            "Epoch 15\n",
            "[15,    50] loss: 0.000051 (0.00005116)\n",
            "[15,   100] loss: 0.000049 (0.00005022)\n",
            "[15,   150] loss: 0.000048 (0.00004931)\n",
            "[15,   200] loss: 0.000046 (0.00004844)\n",
            "Epoch loss = 4.8440031678183e-05\n"
          ]
        }
      ],
      "source": [
        "tensor_x = torch.Tensor(x_train1_flat)\n",
        "tensor_y = torch.Tensor(y_train1_flat)\n",
        "my_dataset = TensorDataset(tensor_x, tensor_y)\n",
        "my_dataloader = DataLoader(my_dataset, batch_size=miniBatchSize, shuffle=True)\n",
        "for iEpoch in range(15):\n",
        "    print(\"Epoch \" + str(iEpoch + 1))\n",
        "    running_loss = 0.0\n",
        "    epoch_loss = 0.0\n",
        "    for i, data in enumerate(my_dataloader, 0):\n",
        "        inputs, labels = data[0].to(device), data[1].to(device)\n",
        "        optimizer.zero_grad()\n",
        "        outputs = net1(inputs)\n",
        "        loss = criterion(outputs, labels)\n",
        "        loss.backward()\n",
        "        optimizer.step()\n",
        "        # Print current statistics\n",
        "        batch_loss = loss.item()\n",
        "        running_loss += batch_loss\n",
        "        epoch_loss += batch_loss\n",
        "        if i % 50 == 49: # print every 50 mini-batches\n",
        "            print('[%d, %5d] loss: %.6f (%.8f)' % (iEpoch + 1, i + 1, running_loss / 50, epoch_loss / (i + 1)))\n",
        "            running_loss = 0.0\n",
        "    print(\"Epoch loss = \" + str(epoch_loss / (epochSize / miniBatchSize)))"
      ]
    },
    {
      "cell_type": "markdown",
      "metadata": {
        "id": "moCAPJ1GpDzm"
      },
      "source": [
        "Evaluate the performance"
      ]
    },
    {
      "cell_type": "code",
      "execution_count": null,
      "metadata": {
        "id": "Il65NSPjpDzn",
        "outputId": "bf7028df-108e-4dc7-c7f5-0f6627129578"
      },
      "outputs": [
        {
          "name": "stdout",
          "output_type": "stream",
          "text": [
            "(2000,)\n",
            "[0 0 0 0 0 0 0 0 0 0]\n",
            "Error on the test sample equals 0.20% or 4 observations.\n"
          ]
        }
      ],
      "source": [
        "net1_output = np.empty((x_test1_flat.shape[0]))\n",
        "tensor_x = torch.Tensor(x_test1_flat)\n",
        "my_dataset = TensorDataset(tensor_x)\n",
        "my_dataloader = DataLoader(my_dataset, batch_size = x_test1_flat.shape[0], shuffle = False)\n",
        "with torch.no_grad():\n",
        "    for i, data in enumerate(my_dataloader, 0):\n",
        "        curInput = data[0].to(device)\n",
        "        net1_output = np.array((net1(curInput).numpy(force = True).reshape((-1)) > 0.5), dtype = int)\n",
        "print(net1_output.shape)\n",
        "print(net1_output[:10])\n",
        "print('Error on the test sample equals %.2f%% or %d observations.' %\n",
        "      (np.mean(net1_output != y_test1) * 100, np.sum(net1_output != y_test1)))"
      ]
    },
    {
      "cell_type": "markdown",
      "metadata": {
        "id": "RbMqvRsxpDzn"
      },
      "source": [
        "## 1.d Train for '4' and '9'"
      ]
    },
    {
      "cell_type": "markdown",
      "metadata": {
        "id": "0w_ehFpqpDzo"
      },
      "source": [
        "Assemble the train/test data"
      ]
    },
    {
      "cell_type": "code",
      "execution_count": null,
      "metadata": {
        "id": "cOnKbG_8pDzo",
        "outputId": "bdc5ee7f-4da7-4d87-cd30-04a40bef1b7c"
      },
      "outputs": [
        {
          "name": "stdout",
          "output_type": "stream",
          "text": [
            "(200, 28, 28)\n",
            "(200,)\n"
          ]
        }
      ],
      "source": [
        "x_train2 = np.empty((200, x_train.shape[1], x_train.shape[2]))\n",
        "x_train2[:100,:,:] = x_train[y_train == 4,:,:][:100,:,:]\n",
        "x_train2[100:,:,:] = x_train[y_train == 9,:,:][:100,:,:]\n",
        "print(x_train2.shape)\n",
        "y_train2 = np.empty((200))\n",
        "y_train2[:100] = y_train[y_train == 4][:100]\n",
        "y_train2[100:] = y_train[y_train == 9][:100]\n",
        "print(y_train2.shape)"
      ]
    },
    {
      "cell_type": "code",
      "execution_count": null,
      "metadata": {
        "id": "m7hJqLHBpDzp",
        "outputId": "466e0508-b4a5-41e3-e645-8a3a6a89e1d5"
      },
      "outputs": [
        {
          "name": "stdout",
          "output_type": "stream",
          "text": [
            "982\n",
            "1009\n",
            "(2000, 28, 28)\n"
          ]
        }
      ],
      "source": [
        "n_fours = x_test[(y_test == 4),:,:].shape[0]\n",
        "print(n_fours)\n",
        "n_nines = x_test[(y_test == 9),:,:].shape[0]\n",
        "print(n_nines)\n",
        "if n_fours + n_nines >= 2000:\n",
        "    x_test2 = np.empty((2000, x_test.shape[1], x_train.shape[2]))\n",
        "    if n_fours >= 1000:\n",
        "        if n_nines >= 1000:\n",
        "            n_fours_real = 1000\n",
        "        else:\n",
        "            n_fours_real = 2000 - n_nines\n",
        "    else:\n",
        "        n_fours_real = n_fours\n",
        "    print(n_fours_real)\n",
        "    print(2000 - n_fours_real)\n",
        "    x_test2[:n_fours_real,:,:] = x_test[y_test == 4,:,:][:n_fours_real,:,:]\n",
        "    x_test2[n_fours_real:,:,:] = x_test[y_test == 9,:,:][:(2000 - n_fours_real),:,:]\n",
        "else:\n",
        "    x_test2 = np.empty((n_fours + n_nines, x_test.shape[1], x_train.shape[2]))\n",
        "    x_test2[:n_fours,:,:] = x_test[y_test == 4,:,:][:n_fours,:,:]\n",
        "    x_test2[n_fours:,:,:] = x_test[y_test == 9,:,:][:n_nines,:,:]\n",
        "print(x_test1.shape)"
      ]
    },
    {
      "cell_type": "code",
      "execution_count": null,
      "metadata": {
        "id": "IS8Fqo2QpDzp",
        "outputId": "92792769-ee6d-4ca1-f965-fe32ff015b21"
      },
      "outputs": [
        {
          "name": "stdout",
          "output_type": "stream",
          "text": [
            "(982,)\n",
            "(1009,)\n",
            "(1991,)\n"
          ]
        }
      ],
      "source": [
        "if n_fours + n_nines >= 2000:\n",
        "    y_test2 = np.empty((2000))\n",
        "    y_test2[:n_fours_real] = y_test[y_test == 4][:n_fours_real]\n",
        "    y_test2[n_fours_real:] = y_test[y_test == 9][:(2000 - n_fours_real)]\n",
        "else:\n",
        "    y_test2 = np.empty((n_fours + n_nines))\n",
        "    y_test2[:n_fours] = y_test[y_test == 4][:n_fours]\n",
        "    y_test2[n_fours:] = y_test[y_test == 9][:n_nines]\n",
        "print(y_test2[y_test2 == 4].shape)\n",
        "print(y_test2[y_test2 == 9].shape)\n",
        "print(y_test2.shape)"
      ]
    },
    {
      "cell_type": "code",
      "execution_count": null,
      "metadata": {
        "id": "QiO3xTCepDzp",
        "outputId": "64f425de-2839-4418-9fb7-88fa85e87d3e"
      },
      "outputs": [
        {
          "data": {
            "image/png": "[encoded data removed]",
            "text/plain": [
              "<Figure size 2000x1000 with 10 Axes>"
            ]
          },
          "metadata": {},
          "output_type": "display_data"
        }
      ],
      "source": [
        "plt.figure(1, figsize=(20, 10))\n",
        "for i in range(10):\n",
        "    plt.subplot(2, 5, i + 1)\n",
        "    plt.imshow(x_train2[i,:,:], cmap=plt.cm.gray_r)\n",
        "    plt.title('Training[' + str(i) + ']: digit ' + str(int(y_train2[i])))"
      ]
    },
    {
      "cell_type": "code",
      "execution_count": null,
      "metadata": {
        "id": "eNtYjpyLpDzq",
        "outputId": "c9033fcd-74c3-497d-a5fe-6600c651ab86"
      },
      "outputs": [
        {
          "data": {
            "image/png": "[encoded data removed]",
            "text/plain": [
              "<Figure size 2000x1000 with 10 Axes>"
            ]
          },
          "metadata": {},
          "output_type": "display_data"
        }
      ],
      "source": [
        "plt.figure(1, figsize=(20, 10))\n",
        "for i in range(10):\n",
        "    plt.subplot(2, 5, i + 1)\n",
        "    plt.imshow(x_test2[i + 1000,:,:], cmap=plt.cm.gray_r)\n",
        "    plt.title('Training[' + str(i + 1000) + ']: digit ' + str(int(y_test2[i + 1000])))"
      ]
    },
    {
      "cell_type": "markdown",
      "metadata": {
        "id": "Rw3kaDw5pDzq"
      },
      "source": [
        "Format the labels"
      ]
    },
    {
      "cell_type": "code",
      "execution_count": null,
      "metadata": {
        "id": "QVoAVoRIpDzq",
        "outputId": "ef56c0c6-bcd2-44f1-e129-105670a6fe40"
      },
      "outputs": [
        {
          "name": "stdout",
          "output_type": "stream",
          "text": [
            "(200, 2)\n",
            "(1991, 2)\n"
          ]
        }
      ],
      "source": [
        "y_train2_d = np.transpose(np.stack((np.round((9 - y_train2) / 5).astype(int), np.round((y_train2 - 4) / 5).astype(int)), axis = 0))\n",
        "print(y_train2_d.shape)\n",
        "y_test2_d = np.transpose(np.stack((np.round((9 - y_test2) / 5).astype(int), np.round((y_test2 - 4) / 5).astype(int)), axis = 0))\n",
        "print(y_test2_d.shape)"
      ]
    },
    {
      "cell_type": "markdown",
      "metadata": {
        "id": "SOJ6rXhzpDzr"
      },
      "source": [
        "Train the NN"
      ]
    },
    {
      "cell_type": "code",
      "execution_count": null,
      "metadata": {
        "id": "aHu6GHLzpDzr"
      },
      "outputs": [],
      "source": [
        "class DNN2(nn.Module):\n",
        "    def __init__(self):\n",
        "        super().__init__()\n",
        "        self.fc1 = nn.Linear(784, 10)\n",
        "        self.fc2 = nn.Linear(10, 10)\n",
        "        self.fc3 = nn.Linear(10, 2)\n",
        "\n",
        "    def forward(self, x):\n",
        "        x = torch.flatten(x, 1)\n",
        "        x = torch.sigmoid(self.fc1(x))\n",
        "        x = torch.sigmoid(self.fc2(x))\n",
        "        x = torch.sigmoid(self.fc3(x))\n",
        "        return x"
      ]
    },
    {
      "cell_type": "code",
      "execution_count": null,
      "metadata": {
        "id": "Jp2wrOxxpDzr",
        "outputId": "cb93f1e4-8e79-4d39-aded-6f0718b8ea51"
      },
      "outputs": [
        {
          "name": "stdout",
          "output_type": "stream",
          "text": [
            "DNN2(\n",
            "  (fc1): Linear(in_features=784, out_features=10, bias=True)\n",
            "  (fc2): Linear(in_features=10, out_features=10, bias=True)\n",
            "  (fc3): Linear(in_features=10, out_features=2, bias=True)\n",
            ")\n"
          ]
        }
      ],
      "source": [
        "net2 = DNN2()\n",
        "criterion = nn.MSELoss()\n",
        "net2.to(device)\n",
        "optimizer = optim.Adam(net2.parameters(), lr = 0.01)\n",
        "miniBatchSize = 1\n",
        "epochSize = x_train2.shape[0]\n",
        "print(net2)"
      ]
    },
    {
      "cell_type": "code",
      "execution_count": null,
      "metadata": {
        "scrolled": true,
        "id": "d2OtBfEjpDzs",
        "outputId": "f2e0d867-a7c2-4267-e2f2-3ca73c6420b9"
      },
      "outputs": [
        {
          "name": "stdout",
          "output_type": "stream",
          "text": [
            "Epoch 1\n",
            "[1,    50] loss: 0.250364 (0.25036420)\n",
            "[1,   100] loss: 0.189069 (0.21971639)\n",
            "[1,   150] loss: 0.137200 (0.19221104)\n",
            "[1,   200] loss: 0.104004 (0.17015932)\n",
            "Epoch loss = 0.17015932434238493\n",
            "Epoch 2\n",
            "[2,    50] loss: 0.044702 (0.04470171)\n",
            "[2,   100] loss: 0.022307 (0.03350425)\n",
            "[2,   150] loss: 0.026080 (0.03102960)\n",
            "[2,   200] loss: 0.065440 (0.03963232)\n",
            "Epoch loss = 0.039632320555392654\n",
            "Epoch 3\n",
            "[3,    50] loss: 0.006617 (0.00661670)\n",
            "[3,   100] loss: 0.004672 (0.00564458)\n",
            "[3,   150] loss: 0.055854 (0.02238121)\n",
            "[3,   200] loss: 0.005673 (0.01820407)\n",
            "Epoch loss = 0.018204074000241235\n",
            "Epoch 4\n",
            "[4,    50] loss: 0.018208 (0.01820808)\n",
            "[4,   100] loss: 0.003656 (0.01093217)\n",
            "[4,   150] loss: 0.055306 (0.02572342)\n",
            "[4,   200] loss: 0.002431 (0.01990028)\n",
            "Epoch loss = 0.019900282661546954\n",
            "Epoch 5\n",
            "[5,    50] loss: 0.020412 (0.02041233)\n",
            "[5,   100] loss: 0.017547 (0.01897945)\n",
            "[5,   150] loss: 0.038521 (0.02549327)\n",
            "[5,   200] loss: 0.030222 (0.02667545)\n",
            "Epoch loss = 0.026675450588809328\n",
            "Epoch 6\n",
            "[6,    50] loss: 0.032730 (0.03273049)\n",
            "[6,   100] loss: 0.005260 (0.01899502)\n",
            "[6,   150] loss: 0.017410 (0.01846667)\n",
            "[6,   200] loss: 0.012500 (0.01697511)\n",
            "Epoch loss = 0.01697511274185672\n",
            "Epoch 7\n",
            "[7,    50] loss: 0.020891 (0.02089099)\n",
            "[7,   100] loss: 0.004598 (0.01274466)\n",
            "[7,   150] loss: 0.001417 (0.00896878)\n",
            "[7,   200] loss: 0.014145 (0.01026281)\n",
            "Epoch loss = 0.0102628082044248\n",
            "Epoch 8\n",
            "[8,    50] loss: 0.019510 (0.01950953)\n",
            "[8,   100] loss: 0.000756 (0.01013269)\n",
            "[8,   150] loss: 0.004251 (0.00817225)\n",
            "[8,   200] loss: 0.058665 (0.02079531)\n",
            "Epoch loss = 0.020795312843729333\n",
            "Epoch 9\n",
            "[9,    50] loss: 0.001750 (0.00175043)\n",
            "[9,   100] loss: 0.020506 (0.01112800)\n",
            "[9,   150] loss: 0.001891 (0.00804888)\n",
            "[9,   200] loss: 0.000975 (0.00628044)\n",
            "Epoch loss = 0.006280444208241534\n",
            "Epoch 10\n",
            "[10,    50] loss: 0.000580 (0.00058019)\n",
            "[10,   100] loss: 0.000469 (0.00052478)\n",
            "[10,   150] loss: 0.000312 (0.00045385)\n",
            "[10,   200] loss: 0.019974 (0.00533384)\n",
            "Epoch loss = 0.005333838351834857\n",
            "Epoch 11\n",
            "[11,    50] loss: 0.000365 (0.00036463)\n",
            "[11,   100] loss: 0.019923 (0.01014388)\n",
            "[11,   150] loss: 0.000282 (0.00685662)\n",
            "[11,   200] loss: 0.000288 (0.00521458)\n",
            "Epoch loss = 0.005214582281005278\n",
            "Epoch 12\n",
            "[12,    50] loss: 0.000250 (0.00025043)\n",
            "[12,   100] loss: 0.000203 (0.00022654)\n",
            "[12,   150] loss: 0.019906 (0.00678646)\n",
            "[12,   200] loss: 0.000218 (0.00514425)\n",
            "Epoch loss = 0.005144254119149991\n",
            "Epoch 13\n",
            "[13,    50] loss: 0.000217 (0.00021672)\n",
            "[13,   100] loss: 0.000183 (0.00019987)\n",
            "[13,   150] loss: 0.000158 (0.00018604)\n",
            "[13,   200] loss: 0.019895 (0.00511318)\n",
            "Epoch loss = 0.005113177825769526\n",
            "Epoch 14\n",
            "[14,    50] loss: 0.000170 (0.00017025)\n",
            "[14,   100] loss: 0.019893 (0.01003180)\n",
            "[14,   150] loss: 0.000149 (0.00673750)\n",
            "[14,   200] loss: 0.000146 (0.00508970)\n",
            "Epoch loss = 0.005089700616354094\n",
            "Epoch 15\n",
            "[15,    50] loss: 0.000129 (0.00012853)\n",
            "[15,   100] loss: 0.000144 (0.00013635)\n",
            "[15,   150] loss: 0.000144 (0.00013903)\n",
            "[15,   200] loss: 0.019865 (0.00507065)\n",
            "Epoch loss = 0.005070646665990353\n"
          ]
        }
      ],
      "source": [
        "tensor_x = torch.Tensor(x_train2)\n",
        "tensor_y = torch.Tensor(y_train2_d)\n",
        "my_dataset = TensorDataset(tensor_x, tensor_y)\n",
        "my_dataloader = DataLoader(my_dataset, batch_size=miniBatchSize, shuffle=True)\n",
        "for iEpoch in range(15):\n",
        "    print(\"Epoch \" + str(iEpoch + 1))\n",
        "    running_loss = 0.0\n",
        "    epoch_loss = 0.0\n",
        "    for i, data in enumerate(my_dataloader, 0):\n",
        "        inputs, labels = data[0].to(device), data[1].to(device)\n",
        "        optimizer.zero_grad()\n",
        "        outputs = net2(inputs)\n",
        "        loss = criterion(outputs, labels)\n",
        "        loss.backward()\n",
        "        optimizer.step()\n",
        "        # Print current statistics\n",
        "        batch_loss = loss.item()\n",
        "        running_loss += batch_loss\n",
        "        epoch_loss += batch_loss\n",
        "        if i % 50 == 49: # print every 50 mini-batches\n",
        "            print('[%d, %5d] loss: %.6f (%.8f)' % (iEpoch + 1, i + 1, running_loss / 50, epoch_loss / (i + 1)))\n",
        "            running_loss = 0.0\n",
        "    print(\"Epoch loss = \" + str(epoch_loss / (epochSize / miniBatchSize)))"
      ]
    },
    {
      "cell_type": "markdown",
      "metadata": {
        "id": "wL8PZHzxpDzs"
      },
      "source": [
        "Test the performance of the network on the test set"
      ]
    },
    {
      "cell_type": "code",
      "execution_count": null,
      "metadata": {
        "id": "1oBsqRChpDzt",
        "outputId": "bb71179a-7d9e-46f9-a816-d9b67e454bc0"
      },
      "outputs": [
        {
          "name": "stdout",
          "output_type": "stream",
          "text": [
            "(1991,)\n",
            "[4 4 4 4 4 4 4 4 4 4]\n",
            "[9 9 4 9 9 4 9 9 9 9]\n",
            "Error on the test sample equals 7.89% or 157 observations.\n"
          ]
        }
      ],
      "source": [
        "net2_output = np.empty((x_test2.shape[0]))\n",
        "tensor_x = torch.Tensor(x_test2)\n",
        "my_dataset = TensorDataset(tensor_x)\n",
        "my_dataloader = DataLoader(my_dataset, batch_size = x_test2.shape[0], shuffle = False)\n",
        "with torch.no_grad():\n",
        "    for i, data in enumerate(my_dataloader, 0):\n",
        "        curInput = data[0].to(device)\n",
        "        net2_output = np.array((net2(curInput).numpy(force = True)[:,1] > 0.5) * 5 + 4, dtype = int)\n",
        "print(net2_output.shape)\n",
        "print(net2_output[:10])\n",
        "print(net2_output[1500:1510])\n",
        "print('Error on the test sample equals %.2f%% or %d observations.' %\n",
        "      (np.mean(net2_output != y_test2) * 100, np.sum(net2_output != y_test2)))"
      ]
    },
    {
      "cell_type": "markdown",
      "metadata": {
        "id": "quYk3wFVpDzt"
      },
      "source": [
        "## 1.e Comparison with LDA"
      ]
    },
    {
      "cell_type": "code",
      "execution_count": null,
      "metadata": {
        "id": "e5WSlnP-pDzt"
      },
      "outputs": [],
      "source": [
        "from sklearn.discriminant_analysis import LinearDiscriminantAnalysis as LDA"
      ]
    },
    {
      "cell_type": "code",
      "execution_count": null,
      "metadata": {
        "id": "M5UjLTFlpDzu",
        "outputId": "cf91654e-506c-401a-cb9e-99c5ca31d643"
      },
      "outputs": [
        {
          "name": "stdout",
          "output_type": "stream",
          "text": [
            "(2000,)\n",
            "(2000,)\n",
            "Accuracy of LDA on test data 1: 0.99\n"
          ]
        }
      ],
      "source": [
        "lda1 = LDA()\n",
        "lda1.fit(x_train1_flat, y_train1)\n",
        "forecastLDA1 = lda1.predict(x_test1_flat)\n",
        "print(forecastLDA1.shape)\n",
        "print(y_test1.shape)\n",
        "print('Accuracy of LDA on test data 1: ' + str(np.mean(forecastLDA1 == y_test1)))"
      ]
    },
    {
      "cell_type": "code",
      "execution_count": null,
      "metadata": {
        "id": "XEaQoRKNpDzv",
        "outputId": "d941a4ef-d603-4e9d-da66-42ae109aabb6"
      },
      "outputs": [
        {
          "name": "stdout",
          "output_type": "stream",
          "text": [
            "(1991,)\n",
            "(1991,)\n",
            "Accuracy of LDA on test data 2: 0.8970366649924661\n"
          ]
        }
      ],
      "source": [
        "lda2 = LDA()\n",
        "lda2.fit(x_train2.reshape(x_train2.shape[0], 28 * 28), y_train2)\n",
        "forecastLDA2 = lda2.predict(x_test2.reshape(x_test2.shape[0], 28 * 28))\n",
        "print(forecastLDA2.shape)\n",
        "print(y_test2.shape)\n",
        "print('Accuracy of LDA on test data 2: ' + str(np.mean(forecastLDA2 == y_test2)))"
      ]
    },
    {
      "cell_type": "markdown",
      "metadata": {
        "id": "w2X134OUpDzv"
      },
      "source": [
        "# 2. Convolutional neural network"
      ]
    },
    {
      "cell_type": "markdown",
      "metadata": {
        "id": "eg4tf9NmpDzv"
      },
      "source": [
        "## 2.a Prepare the data"
      ]
    },
    {
      "cell_type": "markdown",
      "metadata": {
        "id": "Bg6O-5CppDzv"
      },
      "source": [
        "Train data for now"
      ]
    },
    {
      "cell_type": "code",
      "execution_count": null,
      "metadata": {
        "id": "NY74war3pDzw",
        "outputId": "56335fee-fc4d-4fc3-eca3-a24b209d753d"
      },
      "outputs": [
        {
          "name": "stdout",
          "output_type": "stream",
          "text": [
            "(1000, 28, 28)\n",
            "(1000, 1, 28, 28)\n",
            "[5 0 4 1 9 2 1 3 1 4 3 5 3 6 1 7 2 8 6 9 4 0 9 1 1 2 4 3 2 7 3 8 6 9 0 5 6\n",
            " 0 7 6 1 8 7 9 3 9 8 5 9 3 3 0 7 4 9 8 0 9 4 1 4 4 6 0 4 5 6 1 0 0 1 7 1 6\n",
            " 3 0 2 1 1 7 9 0 2 6 7 8 3 9 0 4 6 7 4 6 8 0 7 8 3 1]\n",
            "(1000,)\n",
            "(1000, 10)\n",
            "[[0 0 0 0 0 1 0 0 0 0]\n",
            " [1 0 0 0 0 0 0 0 0 0]\n",
            " [0 0 0 0 1 0 0 0 0 0]\n",
            " [0 1 0 0 0 0 0 0 0 0]\n",
            " [0 0 0 0 0 0 0 0 0 1]\n",
            " [0 0 1 0 0 0 0 0 0 0]\n",
            " [0 1 0 0 0 0 0 0 0 0]\n",
            " [0 0 0 1 0 0 0 0 0 0]\n",
            " [0 1 0 0 0 0 0 0 0 0]\n",
            " [0 0 0 0 1 0 0 0 0 0]\n",
            " [0 0 0 1 0 0 0 0 0 0]\n",
            " [0 0 0 0 0 1 0 0 0 0]\n",
            " [0 0 0 1 0 0 0 0 0 0]\n",
            " [0 0 0 0 0 0 1 0 0 0]\n",
            " [0 1 0 0 0 0 0 0 0 0]]\n"
          ]
        }
      ],
      "source": [
        "x_train3 = x_train[:1000,:,:]\n",
        "print(x_train3.shape)\n",
        "x_train3_deep = x_train3.reshape((x_train3.shape[0], 1, x_train3.shape[1], x_train3.shape[2]))\n",
        "print(x_train3_deep.shape)\n",
        "y_train3 = y_train[:1000]\n",
        "print(y_train3[:100])\n",
        "print(y_train3.shape)\n",
        "y_train3_onehot = np.zeros((y_train3.shape[0], int(y_train3.max()) + 1), dtype = int)\n",
        "y_train3_onehot[np.arange(y_train3.size),y_train3] = 1\n",
        "print(y_train3_onehot.shape)\n",
        "print(y_train3_onehot[:15,:])"
      ]
    },
    {
      "cell_type": "markdown",
      "metadata": {
        "id": "0Vjq35q8pDzw"
      },
      "source": [
        "## 2.b Train the LeCun convolutional neural network"
      ]
    },
    {
      "cell_type": "markdown",
      "metadata": {
        "id": "g2fK11ULpDzw"
      },
      "source": [
        "Define the network"
      ]
    },
    {
      "cell_type": "code",
      "execution_count": null,
      "metadata": {
        "id": "fEskL59mpDzx"
      },
      "outputs": [],
      "source": [
        "# Input: 224x224\n",
        "\n",
        "class CNN3(nn.Module):\n",
        "    def __init__(self):\n",
        "        super().__init__()\n",
        "        self.conv0 = nn.Conv2d(1, 4, 5)\n",
        "        self.pool0 = nn.MaxPool2d(2, 2)\n",
        "        self.conv1 = nn.Conv2d(4, 12, 5)\n",
        "        self.pool1 = nn.MaxPool2d(2, 2)\n",
        "        self.fc1 = nn.Linear(12 * 4 * 4, 10)\n",
        "\n",
        "    def forward(self, x):\n",
        "        x = self.pool0(F.relu(self.conv0(x)))\n",
        "        x = self.pool1(F.relu(self.conv1(x)))\n",
        "        x = torch.flatten(x, 1) # flatten all dimensions except batch\n",
        "        x = torch.sigmoid(self.fc1(x))\n",
        "        return x"
      ]
    },
    {
      "cell_type": "markdown",
      "metadata": {
        "id": "YvPSTpRDpDzx"
      },
      "source": [
        "Set the parameters"
      ]
    },
    {
      "cell_type": "code",
      "execution_count": null,
      "metadata": {
        "id": "smWeyw-TpDzx",
        "outputId": "b989be9b-3975-4225-df60-13a712ea6390"
      },
      "outputs": [
        {
          "name": "stdout",
          "output_type": "stream",
          "text": [
            "CNN3(\n",
            "  (conv0): Conv2d(1, 4, kernel_size=(5, 5), stride=(1, 1))\n",
            "  (pool0): MaxPool2d(kernel_size=2, stride=2, padding=0, dilation=1, ceil_mode=False)\n",
            "  (conv1): Conv2d(4, 12, kernel_size=(5, 5), stride=(1, 1))\n",
            "  (pool1): MaxPool2d(kernel_size=2, stride=2, padding=0, dilation=1, ceil_mode=False)\n",
            "  (fc1): Linear(in_features=192, out_features=10, bias=True)\n",
            ")\n"
          ]
        }
      ],
      "source": [
        "net3 = CNN3()\n",
        "criterion = nn.CrossEntropyLoss()\n",
        "net3.to(device)\n",
        "optimizer = optim.Adam(net3.parameters(), lr = 0.001)\n",
        "miniBatchSize = 1\n",
        "epochSize = x_train3.shape[0]\n",
        "print(net3)"
      ]
    },
    {
      "cell_type": "markdown",
      "metadata": {
        "id": "UCQC2LDNpDzx"
      },
      "source": [
        "Start the training process"
      ]
    },
    {
      "cell_type": "code",
      "execution_count": null,
      "metadata": {
        "scrolled": true,
        "id": "W4JKSgnHpDzx",
        "outputId": "5f3c7704-a2c5-4044-e418-6d80cb0fe848"
      },
      "outputs": [
        {
          "name": "stdout",
          "output_type": "stream",
          "text": [
            "Epoch 1\n",
            "[1,    50] loss: 2.307982 (2.30798225)\n",
            "[1,   100] loss: 2.281653 (2.29481743)\n",
            "[1,   150] loss: 2.241241 (2.27695849)\n",
            "[1,   200] loss: 2.223094 (2.26349245)\n",
            "[1,   250] loss: 2.127459 (2.23628570)\n",
            "[1,   300] loss: 2.045851 (2.20454664)\n",
            "[1,   350] loss: 1.957645 (2.16927503)\n",
            "[1,   400] loss: 1.805280 (2.12377562)\n",
            "[1,   450] loss: 1.795258 (2.08727361)\n",
            "[1,   500] loss: 1.793082 (2.05785445)\n",
            "[1,   550] loss: 1.765160 (2.03124591)\n",
            "[1,   600] loss: 1.681593 (2.00210817)\n",
            "[1,   650] loss: 1.652687 (1.97522964)\n",
            "[1,   700] loss: 1.625885 (1.95027643)\n",
            "[1,   750] loss: 1.562078 (1.92439656)\n",
            "[1,   800] loss: 1.704598 (1.91065916)\n",
            "[1,   850] loss: 1.622946 (1.89373483)\n",
            "[1,   900] loss: 1.612178 (1.87809280)\n",
            "[1,   950] loss: 1.652474 (1.86621815)\n",
            "[1,  1000] loss: 1.591251 (1.85246978)\n",
            "Epoch loss = 1.8524697806835175\n",
            "Epoch 2\n",
            "[2,    50] loss: 1.615094 (1.61509432)\n",
            "[2,   100] loss: 1.650238 (1.63266593)\n",
            "[2,   150] loss: 1.636631 (1.63398761)\n",
            "[2,   200] loss: 1.606385 (1.62708687)\n",
            "[2,   250] loss: 1.578870 (1.61744346)\n",
            "[2,   300] loss: 1.620147 (1.61789406)\n",
            "[2,   350] loss: 1.636665 (1.62057568)\n",
            "[2,   400] loss: 1.577632 (1.61520770)\n",
            "[2,   450] loss: 1.580790 (1.61138347)\n",
            "[2,   500] loss: 1.560695 (1.60631466)\n",
            "[2,   550] loss: 1.624452 (1.60796355)\n",
            "[2,   600] loss: 1.543691 (1.60260752)\n",
            "[2,   650] loss: 1.577816 (1.60070047)\n",
            "[2,   700] loss: 1.544312 (1.59667274)\n",
            "[2,   750] loss: 1.521311 (1.59164863)\n",
            "[2,   800] loss: 1.591420 (1.59163433)\n",
            "[2,   850] loss: 1.581690 (1.59104936)\n",
            "[2,   900] loss: 1.592440 (1.59112659)\n",
            "[2,   950] loss: 1.602746 (1.59173813)\n",
            "[2,  1000] loss: 1.533610 (1.58883172)\n",
            "Epoch loss = 1.5888317184448242\n",
            "Epoch 3\n",
            "[3,    50] loss: 1.542992 (1.54299155)\n",
            "[3,   100] loss: 1.544163 (1.54357719)\n",
            "[3,   150] loss: 1.575373 (1.55417579)\n",
            "[3,   200] loss: 1.551778 (1.55357630)\n",
            "[3,   250] loss: 1.534897 (1.54984053)\n",
            "[3,   300] loss: 1.574938 (1.55402345)\n",
            "[3,   350] loss: 1.501464 (1.54651495)\n",
            "[3,   400] loss: 1.560491 (1.54826201)\n",
            "[3,   450] loss: 1.569349 (1.55060499)\n",
            "[3,   500] loss: 1.525032 (1.54804766)\n",
            "[3,   550] loss: 1.576325 (1.55061835)\n",
            "[3,   600] loss: 1.573772 (1.55254785)\n",
            "[3,   650] loss: 1.510689 (1.54932793)\n",
            "[3,   700] loss: 1.570275 (1.55082415)\n",
            "[3,   750] loss: 1.515415 (1.54846353)\n",
            "[3,   800] loss: 1.550582 (1.54859594)\n",
            "[3,   850] loss: 1.520645 (1.54695177)\n",
            "[3,   900] loss: 1.604746 (1.55016258)\n",
            "[3,   950] loss: 1.533764 (1.54929949)\n",
            "[3,  1000] loss: 1.548168 (1.54924291)\n",
            "Epoch loss = 1.549242908358574\n",
            "Epoch 4\n",
            "[4,    50] loss: 1.510009 (1.51000860)\n",
            "[4,   100] loss: 1.499117 (1.50456296)\n",
            "[4,   150] loss: 1.595028 (1.53471798)\n",
            "[4,   200] loss: 1.518170 (1.53058109)\n",
            "[4,   250] loss: 1.507274 (1.52591968)\n",
            "[4,   300] loss: 1.531420 (1.52683640)\n",
            "[4,   350] loss: 1.512552 (1.52479573)\n",
            "[4,   400] loss: 1.555772 (1.52866777)\n",
            "[4,   450] loss: 1.558832 (1.53201936)\n",
            "[4,   500] loss: 1.546672 (1.53348462)\n",
            "[4,   550] loss: 1.545974 (1.53462000)\n",
            "[4,   600] loss: 1.508281 (1.53242507)\n",
            "[4,   650] loss: 1.532960 (1.53246622)\n",
            "[4,   700] loss: 1.549521 (1.53368440)\n",
            "[4,   750] loss: 1.542229 (1.53425404)\n",
            "[4,   800] loss: 1.503196 (1.53231289)\n",
            "[4,   850] loss: 1.507715 (1.53086597)\n",
            "[4,   900] loss: 1.495682 (1.52891131)\n",
            "[4,   950] loss: 1.512507 (1.52804795)\n",
            "[4,  1000] loss: 1.515326 (1.52741184)\n",
            "Epoch loss = 1.527411835193634\n",
            "Epoch 5\n",
            "[5,    50] loss: 1.523687 (1.52368695)\n",
            "[5,   100] loss: 1.478826 (1.50125649)\n",
            "[5,   150] loss: 1.537069 (1.51319407)\n",
            "[5,   200] loss: 1.544537 (1.52102978)\n",
            "[5,   250] loss: 1.532100 (1.52324387)\n",
            "[5,   300] loss: 1.499698 (1.51931959)\n",
            "[5,   350] loss: 1.523057 (1.51985357)\n",
            "[5,   400] loss: 1.524223 (1.52039975)\n",
            "[5,   450] loss: 1.520769 (1.52044081)\n",
            "[5,   500] loss: 1.537501 (1.52214688)\n",
            "[5,   550] loss: 1.503149 (1.52041976)\n",
            "[5,   600] loss: 1.503303 (1.51899336)\n",
            "[5,   650] loss: 1.547193 (1.52116254)\n",
            "[5,   700] loss: 1.489434 (1.51889623)\n",
            "[5,   750] loss: 1.535004 (1.51997006)\n",
            "[5,   800] loss: 1.522406 (1.52012232)\n",
            "[5,   850] loss: 1.508707 (1.51945080)\n",
            "[5,   900] loss: 1.510058 (1.51892896)\n",
            "[5,   950] loss: 1.511249 (1.51852473)\n",
            "[5,  1000] loss: 1.519997 (1.51859832)\n",
            "Epoch loss = 1.5185983220338821\n",
            "Epoch 6\n",
            "[6,    50] loss: 1.494100 (1.49409974)\n",
            "[6,   100] loss: 1.502458 (1.49827891)\n",
            "[6,   150] loss: 1.514801 (1.50378615)\n",
            "[6,   200] loss: 1.483225 (1.49864594)\n",
            "[6,   250] loss: 1.525404 (1.50399761)\n",
            "[6,   300] loss: 1.506456 (1.50440731)\n",
            "[6,   350] loss: 1.467987 (1.49920440)\n",
            "[6,   400] loss: 1.496044 (1.49880934)\n",
            "[6,   450] loss: 1.508103 (1.49984202)\n",
            "[6,   500] loss: 1.505226 (1.50038046)\n",
            "[6,   550] loss: 1.505965 (1.50088816)\n",
            "[6,   600] loss: 1.516319 (1.50217410)\n",
            "[6,   650] loss: 1.494490 (1.50158303)\n",
            "[6,   700] loss: 1.537609 (1.50415629)\n",
            "[6,   750] loss: 1.485121 (1.50288726)\n",
            "[6,   800] loss: 1.548080 (1.50571179)\n",
            "[6,   850] loss: 1.543634 (1.50794250)\n",
            "[6,   900] loss: 1.549688 (1.51026172)\n",
            "[6,   950] loss: 1.506764 (1.51007763)\n",
            "[6,  1000] loss: 1.511311 (1.51013927)\n",
            "Epoch loss = 1.5101392730474472\n",
            "Epoch 7\n",
            "[7,    50] loss: 1.494609 (1.49460896)\n",
            "[7,   100] loss: 1.588800 (1.54170431)\n",
            "[7,   150] loss: 1.510555 (1.53132122)\n",
            "[7,   200] loss: 1.502213 (1.52404411)\n",
            "[7,   250] loss: 1.467786 (1.51279239)\n",
            "[7,   300] loss: 1.508527 (1.51208147)\n",
            "[7,   350] loss: 1.509534 (1.51171753)\n",
            "[7,   400] loss: 1.483201 (1.50815293)\n",
            "[7,   450] loss: 1.522118 (1.50970456)\n",
            "[7,   500] loss: 1.520078 (1.51074186)\n",
            "[7,   550] loss: 1.484018 (1.50831244)\n",
            "[7,   600] loss: 1.479834 (1.50593925)\n",
            "[7,   650] loss: 1.483274 (1.50419580)\n",
            "[7,   700] loss: 1.528487 (1.50593086)\n",
            "[7,   750] loss: 1.505560 (1.50590610)\n",
            "[7,   800] loss: 1.540463 (1.50806591)\n",
            "[7,   850] loss: 1.477213 (1.50625102)\n",
            "[7,   900] loss: 1.505278 (1.50619698)\n",
            "[7,   950] loss: 1.467618 (1.50416651)\n",
            "[7,  1000] loss: 1.490592 (1.50348778)\n",
            "Epoch loss = 1.5034877753257752\n",
            "Epoch 8\n",
            "[8,    50] loss: 1.479975 (1.47997482)\n",
            "[8,   100] loss: 1.480452 (1.48021321)\n",
            "[8,   150] loss: 1.499079 (1.48650183)\n",
            "[8,   200] loss: 1.497633 (1.48928466)\n",
            "[8,   250] loss: 1.464053 (1.48423835)\n",
            "[8,   300] loss: 1.531835 (1.49217120)\n",
            "[8,   350] loss: 1.505059 (1.49401237)\n",
            "[8,   400] loss: 1.500268 (1.49479438)\n",
            "[8,   450] loss: 1.506928 (1.49614253)\n",
            "[8,   500] loss: 1.504812 (1.49700945)\n",
            "[8,   550] loss: 1.478368 (1.49531481)\n",
            "[8,   600] loss: 1.489543 (1.49483381)\n",
            "[8,   650] loss: 1.485551 (1.49411977)\n",
            "[8,   700] loss: 1.490438 (1.49385678)\n",
            "[8,   750] loss: 1.538516 (1.49683406)\n",
            "[8,   800] loss: 1.504433 (1.49730899)\n",
            "[8,   850] loss: 1.504166 (1.49771236)\n",
            "[8,   900] loss: 1.494342 (1.49752512)\n",
            "[8,   950] loss: 1.494956 (1.49738990)\n",
            "[8,  1000] loss: 1.489475 (1.49699414)\n",
            "Epoch loss = 1.4969941384792327\n",
            "Epoch 9\n",
            "[9,    50] loss: 1.485871 (1.48587113)\n",
            "[9,   100] loss: 1.478299 (1.48208495)\n",
            "[9,   150] loss: 1.468509 (1.47755970)\n",
            "[9,   200] loss: 1.515280 (1.48698982)\n",
            "[9,   250] loss: 1.501148 (1.48982146)\n",
            "[9,   300] loss: 1.504972 (1.49234650)\n",
            "[9,   350] loss: 1.500432 (1.49350158)\n",
            "[9,   400] loss: 1.516154 (1.49633309)\n",
            "[9,   450] loss: 1.496500 (1.49635162)\n",
            "[9,   500] loss: 1.513660 (1.49808241)\n",
            "[9,   550] loss: 1.488117 (1.49717649)\n",
            "[9,   600] loss: 1.496050 (1.49708261)\n",
            "[9,   650] loss: 1.487263 (1.49632728)\n",
            "[9,   700] loss: 1.475046 (1.49480716)\n",
            "[9,   750] loss: 1.494305 (1.49477368)\n",
            "[9,   800] loss: 1.507105 (1.49554437)\n",
            "[9,   850] loss: 1.519921 (1.49697830)\n",
            "[9,   900] loss: 1.501105 (1.49720756)\n",
            "[9,   950] loss: 1.492134 (1.49694051)\n",
            "[9,  1000] loss: 1.481876 (1.49618731)\n",
            "Epoch loss = 1.4961873115301132\n",
            "Epoch 10\n",
            "[10,    50] loss: 1.506700 (1.50669972)\n",
            "[10,   100] loss: 1.495305 (1.50100234)\n",
            "[10,   150] loss: 1.483887 (1.49529739)\n",
            "[10,   200] loss: 1.504770 (1.49766550)\n",
            "[10,   250] loss: 1.491491 (1.49643056)\n",
            "[10,   300] loss: 1.491344 (1.49558276)\n",
            "[10,   350] loss: 1.525865 (1.49990882)\n",
            "[10,   400] loss: 1.500139 (1.49993754)\n",
            "[10,   450] loss: 1.489315 (1.49875730)\n",
            "[10,   500] loss: 1.480261 (1.49690769)\n",
            "[10,   550] loss: 1.486837 (1.49599219)\n",
            "[10,   600] loss: 1.510951 (1.49723876)\n",
            "[10,   650] loss: 1.488132 (1.49653825)\n",
            "[10,   700] loss: 1.490495 (1.49610658)\n",
            "[10,   750] loss: 1.483697 (1.49527925)\n",
            "[10,   800] loss: 1.496075 (1.49532901)\n",
            "[10,   850] loss: 1.471990 (1.49395610)\n",
            "[10,   900] loss: 1.507078 (1.49468511)\n",
            "[10,   950] loss: 1.487738 (1.49431945)\n",
            "[10,  1000] loss: 1.499518 (1.49457938)\n",
            "Epoch loss = 1.4945793828964233\n"
          ]
        }
      ],
      "source": [
        "tensor_x = torch.Tensor(x_train3_deep)\n",
        "tensor_y = torch.Tensor(y_train3_onehot)\n",
        "my_dataset = TensorDataset(tensor_x, tensor_y)\n",
        "my_dataloader = DataLoader(my_dataset, batch_size=miniBatchSize, shuffle=True)\n",
        "for iEpoch in range(10):\n",
        "    print(\"Epoch \" + str(iEpoch + 1))\n",
        "    running_loss = 0.0\n",
        "    epoch_loss = 0.0\n",
        "    for i, data in enumerate(my_dataloader, 0):\n",
        "        inputs, labels = data[0].to(device), data[1].to(device)\n",
        "        optimizer.zero_grad()\n",
        "        outputs = net3(inputs)\n",
        "        loss = criterion(outputs, labels)\n",
        "        loss.backward()\n",
        "        optimizer.step()\n",
        "        # Print current statistics\n",
        "        batch_loss = loss.item()\n",
        "        running_loss += batch_loss\n",
        "        epoch_loss += batch_loss\n",
        "        if i % 50 == 49: # print every 50 mini-batches\n",
        "            print('[%d, %5d] loss: %.6f (%.8f)' % (iEpoch + 1, i + 1, running_loss / 50, epoch_loss / (i + 1)))\n",
        "            running_loss = 0.0\n",
        "    print(\"Epoch loss = \" + str(epoch_loss / (epochSize / miniBatchSize)))"
      ]
    },
    {
      "cell_type": "markdown",
      "metadata": {
        "id": "ak-ixH-spDzx"
      },
      "source": [
        "## 2.c Test the accuracy of the trained convolutional neural network"
      ]
    },
    {
      "cell_type": "markdown",
      "metadata": {
        "id": "cm-s4BZrpDzy"
      },
      "source": [
        "Prepare the test data"
      ]
    },
    {
      "cell_type": "code",
      "execution_count": null,
      "metadata": {
        "id": "MS4o1nT2pDzz",
        "outputId": "c9acb744-6e70-4241-f8a6-c877daf28b57"
      },
      "outputs": [
        {
          "name": "stdout",
          "output_type": "stream",
          "text": [
            "(10000, 28, 28)\n",
            "(10000, 1, 28, 28)\n",
            "(10000,)\n"
          ]
        }
      ],
      "source": [
        "x_test3 = x_test\n",
        "print(x_test3.shape)\n",
        "x_test3_deep = x_test3.reshape((x_test3.shape[0], 1, x_test3.shape[1], x_test3.shape[2]))\n",
        "print(x_test3_deep.shape)\n",
        "y_test3 = y_test\n",
        "print(y_test3.shape)"
      ]
    },
    {
      "cell_type": "markdown",
      "metadata": {
        "id": "ygn7cJQCpDzz"
      },
      "source": [
        "Run the test"
      ]
    },
    {
      "cell_type": "code",
      "execution_count": null,
      "metadata": {
        "id": "DDK76-phpDzz",
        "outputId": "febffa38-f25b-474c-d574-cd4c7ac7a792"
      },
      "outputs": [
        {
          "name": "stdout",
          "output_type": "stream",
          "text": [
            "(10000, 10)\n",
            "Error on the test sample equals 6.46% or 646 observations.\n"
          ]
        }
      ],
      "source": [
        "net3_output = np.empty((x_test3.shape[0], 10))\n",
        "tensor_x = torch.Tensor(x_test3_deep)\n",
        "my_dataset = TensorDataset(tensor_x)\n",
        "my_dataloader = DataLoader(my_dataset, batch_size = x_test3_deep.shape[0], shuffle = False)\n",
        "with torch.no_grad():\n",
        "    for i, data in enumerate(my_dataloader, 0):\n",
        "        curInput = data[0].to(device)\n",
        "        net3_output = np.array((net3(curInput).numpy(force = True)))\n",
        "print(net3_output.shape)\n",
        "net3_output_one = np.argmax(net3_output, axis = 1)\n",
        "print('Error on the test sample equals %.2f%% or %d observations.' %\n",
        "      (np.mean(net3_output_one != y_test3) * 100, np.sum(net3_output_one != y_test3)))"
      ]
    },
    {
      "cell_type": "code",
      "execution_count": null,
      "metadata": {
        "id": "_jNjTSnjpDz0"
      },
      "outputs": [],
      "source": []
    }
  ],
  "metadata": {
    "kernelspec": {
      "display_name": "Python 3",
      "name": "python3"
    },
    "language_info": {
      "codemirror_mode": {
        "name": "ipython",
        "version": 3
      },
      "file_extension": ".py",
      "mimetype": "text/x-python",
      "name": "python",
      "nbconvert_exporter": "python",
      "pygments_lexer": "ipython3",
      "version": "3.10.12"
    },
    "colab": {
      "provenance": [],
      "gpuType": "T4",
      "include_colab_link": true
    },
    "accelerator": "GPU"
  },
  "nbformat": 4,
  "nbformat_minor": 0
}